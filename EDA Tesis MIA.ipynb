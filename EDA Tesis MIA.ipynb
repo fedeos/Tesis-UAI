{
 "cells": [
  {
   "cell_type": "markdown",
   "source": [
    "## Importar Bibliotecas"
   ],
   "metadata": {}
  },
  {
   "cell_type": "code",
   "execution_count": null,
   "source": [
    "import pandas as pd\n",
    "import numpy as np\n",
    "import datetime\n",
    "from sklearn.preprocessing import OneHotEncoder,MinMaxScaler"
   ],
   "outputs": [],
   "metadata": {}
  },
  {
   "cell_type": "markdown",
   "source": [
    "## Primera mirada"
   ],
   "metadata": {}
  },
  {
   "cell_type": "code",
   "execution_count": null,
   "source": [
    "df = pd.read_csv('train.csv')"
   ],
   "outputs": [],
   "metadata": {}
  },
  {
   "cell_type": "code",
   "execution_count": null,
   "source": [
    "df.shape"
   ],
   "outputs": [],
   "metadata": {}
  },
  {
   "cell_type": "code",
   "execution_count": null,
   "source": [
    "df.isna().sum()"
   ],
   "outputs": [],
   "metadata": {}
  },
  {
   "cell_type": "markdown",
   "source": [
    "Notar que en este caso:\n",
    "- ```Image path``` : Contiene el path al archivo\n",
    "- ```Insurance_company``` : Nombre de la compañía de seguros involucrada\n",
    "- ```Cost_of_vehicle``` : Costo inicial del vehículo involucrado, en USD \n",
    "- ```Min_coverage``` : Monto de la cobertura mínima\n",
    "- ```Max_coverage```: Monto de la cobertura máxima\n",
    "- ```Expiry_date```: Fecha de expiración de la cobertura           \n",
    "- ```Condition```: 0 si el auto está sin daños, 1 si está dañado "
   ],
   "metadata": {}
  },
  {
   "cell_type": "markdown",
   "source": [
    "Como criterio conservador, simplemente voy a omitir de la muestra los datos faltantes"
   ],
   "metadata": {}
  },
  {
   "cell_type": "code",
   "execution_count": null,
   "source": [
    "df.dropna(inplace =True)"
   ],
   "outputs": [],
   "metadata": {}
  },
  {
   "cell_type": "code",
   "execution_count": null,
   "source": [
    "df[df.Amount!=0]['Amount'].hist(bins =20);"
   ],
   "outputs": [],
   "metadata": {}
  },
  {
   "cell_type": "markdown",
   "source": [
    "Lo primero que voy a hacer es expresar el daño en términos relativos al costo original del vehículo"
   ],
   "metadata": {}
  },
  {
   "cell_type": "code",
   "execution_count": null,
   "source": [
    "df['relative_amount'] = df['Amount']/df['Cost_of_vehicle']"
   ],
   "outputs": [],
   "metadata": {}
  },
  {
   "cell_type": "markdown",
   "source": [
    "Se nota asimetría de los montos relativos, hacia daños bajos"
   ],
   "metadata": {}
  },
  {
   "cell_type": "markdown",
   "source": [
    "Por el momento, vamos a trabajar solo con los datos que tenemos OK"
   ],
   "metadata": {}
  },
  {
   "cell_type": "code",
   "execution_count": null,
   "source": [
    "df.relative_amount.hist(bins=30)"
   ],
   "outputs": [],
   "metadata": {}
  },
  {
   "cell_type": "markdown",
   "source": [
    "Voy a separar, momentáneamente, vehículos dañados de los que no lo están"
   ],
   "metadata": {}
  },
  {
   "cell_type": "code",
   "execution_count": null,
   "source": [
    "df_sin_danno = df[df['Amount']==0]\n",
    "df_con_danno = df[df['Amount']!=0]"
   ],
   "outputs": [],
   "metadata": {}
  },
  {
   "cell_type": "code",
   "execution_count": null,
   "source": [
    "df_sin_danno = df_sin_danno.assign(severidad='indemne')"
   ],
   "outputs": [],
   "metadata": {}
  },
  {
   "cell_type": "code",
   "execution_count": null,
   "source": [
    "df_con_danno = df_con_danno.assign(severidad=pd.qcut(df.relative_amount,\n",
    "                                                     q=[0,0.33,0.66,1],\n",
    "                                                     labels=['leve','media','severa']))"
   ],
   "outputs": [],
   "metadata": {}
  },
  {
   "cell_type": "code",
   "execution_count": null,
   "source": [
    "df_con_danno.severidad.value_counts()"
   ],
   "outputs": [],
   "metadata": {}
  },
  {
   "cell_type": "code",
   "execution_count": null,
   "source": [
    "len(df[df.Amount==0])"
   ],
   "outputs": [],
   "metadata": {}
  },
  {
   "cell_type": "code",
   "execution_count": null,
   "source": [
    "df = pd.concat([df_con_danno,df_sin_danno],axis=0) "
   ],
   "outputs": [],
   "metadata": {}
  },
  {
   "cell_type": "code",
   "execution_count": null,
   "source": [
    "df"
   ],
   "outputs": [],
   "metadata": {}
  },
  {
   "cell_type": "markdown",
   "source": [
    "A su vez, respecto de los montos de cobertura máxima y mínima, parece razonable expresar en términos relativos"
   ],
   "metadata": {}
  },
  {
   "cell_type": "code",
   "execution_count": null,
   "source": [
    "df['p_min_cov'] = df['Min_coverage']/df['Cost_of_vehicle']\n",
    "df['p_max_cov'] = df['Max_coverage']/df['Cost_of_vehicle']"
   ],
   "outputs": [],
   "metadata": {}
  },
  {
   "cell_type": "code",
   "execution_count": null,
   "source": [
    "df['Insurance_company'].value_counts().sort_index()"
   ],
   "outputs": [],
   "metadata": {}
  },
  {
   "cell_type": "markdown",
   "source": [
    "En una primera versión del modelo, codificaremos la compañía de seguros"
   ],
   "metadata": {}
  },
  {
   "cell_type": "code",
   "execution_count": null,
   "source": [
    "ins_cos=pd.get_dummies(df['Insurance_company'],prefix='Co')"
   ],
   "outputs": [],
   "metadata": {}
  },
  {
   "cell_type": "code",
   "execution_count": null,
   "source": [
    "df = pd.concat([df,ins_cos],axis=1)"
   ],
   "outputs": [],
   "metadata": {}
  },
  {
   "cell_type": "markdown",
   "source": [
    "A su vez, vamos a encontrar los días restantes que el vehículo está bajo cobertura"
   ],
   "metadata": {}
  },
  {
   "cell_type": "code",
   "execution_count": null,
   "source": [
    "HOY = pd.to_datetime(datetime.date(2021,6,30))"
   ],
   "outputs": [],
   "metadata": {}
  },
  {
   "cell_type": "code",
   "execution_count": null,
   "source": [
    "df['Expiry_date']=pd.to_datetime(df['Expiry_date'])"
   ],
   "outputs": [],
   "metadata": {}
  },
  {
   "cell_type": "code",
   "execution_count": null,
   "source": [
    "df['dias_pendientes_cobertura']=(df['Expiry_date']-HOY).dt.days.astype(int)"
   ],
   "outputs": [],
   "metadata": {}
  },
  {
   "cell_type": "markdown",
   "source": [
    "Y vamos a escalar otras variables de interés"
   ],
   "metadata": {}
  },
  {
   "cell_type": "code",
   "execution_count": null,
   "source": [
    "mms = MinMaxScaler()"
   ],
   "outputs": [],
   "metadata": {}
  },
  {
   "cell_type": "code",
   "execution_count": null,
   "source": [
    "df[['Cost_of_vehicle','dias_pendientes_cobertura']]=mms.fit_transform(df[['Cost_of_vehicle',\n",
    "                                                                          'dias_pendientes_cobertura']])"
   ],
   "outputs": [],
   "metadata": {}
  },
  {
   "cell_type": "code",
   "execution_count": null,
   "source": [
    "df.columns"
   ],
   "outputs": [],
   "metadata": {}
  },
  {
   "cell_type": "code",
   "execution_count": null,
   "source": [
    "df.drop(columns = ['Insurance_company','Min_coverage','Max_coverage','Expiry_date','Condition',\n",
    "                   'Amount','relative_amount','p_min_cov'],inplace=True)"
   ],
   "outputs": [],
   "metadata": {}
  },
  {
   "cell_type": "markdown",
   "source": [
    "Por último, elimino las columnas que no resultan de interés (notar que la cobertura mínima es fija)."
   ],
   "metadata": {}
  },
  {
   "cell_type": "code",
   "execution_count": null,
   "source": [
    "df"
   ],
   "outputs": [],
   "metadata": {}
  },
  {
   "cell_type": "code",
   "execution_count": null,
   "source": [],
   "outputs": [],
   "metadata": {}
  },
  {
   "cell_type": "code",
   "execution_count": null,
   "source": [],
   "outputs": [],
   "metadata": {}
  }
 ],
 "metadata": {
  "kernelspec": {
   "display_name": "Python 3",
   "language": "python",
   "name": "python3"
  },
  "language_info": {
   "codemirror_mode": {
    "name": "ipython",
    "version": 3
   },
   "file_extension": ".py",
   "mimetype": "text/x-python",
   "name": "python",
   "nbconvert_exporter": "python",
   "pygments_lexer": "ipython3",
   "version": "3.7.7"
  }
 },
 "nbformat": 4,
 "nbformat_minor": 4
}