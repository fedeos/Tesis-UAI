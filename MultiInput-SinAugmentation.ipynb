{
 "cells": [
  {
   "cell_type": "markdown",
   "metadata": {},
   "source": [
    "# Modelo multinput"
   ]
  },
  {
   "cell_type": "markdown",
   "metadata": {},
   "source": [
    "## Modelamiento "
   ]
  },
  {
   "cell_type": "markdown",
   "metadata": {},
   "source": [
    "Como primer paso vamos a importar las bibliotecas necesarias"
   ]
  },
  {
   "cell_type": "code",
   "execution_count": 1,
   "metadata": {},
   "outputs": [],
   "source": [
    "from sklearn.preprocessing import LabelBinarizer,MinMaxScaler,LabelEncoder,OneHotEncoder\n",
    "from tensorflow.keras.models import Sequential\n",
    "from tensorflow.keras.layers import BatchNormalization\n",
    "from tensorflow.keras.layers import Conv2D\n",
    "from tensorflow.keras.layers import MaxPooling2D\n",
    "from tensorflow.keras.layers import GlobalAveragePooling2D\n",
    "from tensorflow.keras.layers import Activation\n",
    "from tensorflow.keras.layers import Dropout\n",
    "from tensorflow.keras.layers import Dense\n",
    "from tensorflow.keras.layers import Flatten\n",
    "from tensorflow.keras.layers import Input\n",
    "from tensorflow.keras.models import Model\n",
    "from tensorflow.keras.optimizers import Adam\n",
    "from tensorflow.keras.callbacks import EarlyStopping\n",
    "from tensorflow.keras.applications import MobileNetV2\n",
    "from sklearn.model_selection import train_test_split\n",
    "from tensorflow.keras.layers import concatenate\n",
    "import matplotlib.pyplot as plt\n",
    "import datetime\n",
    "import pandas as pd\n",
    "import numpy as np\n",
    "import argparse\n",
    "import locale\n",
    "import glob\n",
    "import cv2\n",
    "import os"
   ]
  },
  {
   "cell_type": "markdown",
   "metadata": {},
   "source": [
    "Nuestro propósito es **corroborar (o descartar) que agregar las fotos de los choques de autos asegurados permite una estimación más exacta de los montos, respecto del caso base que sólo usa información tabular**.\n",
    "Para ello haremos uso de una red neuronal _multi input_."
   ]
  },
  {
   "cell_type": "markdown",
   "metadata": {},
   "source": [
    "Ya se hizo un trabajo detallado de exploración de los datos, el que se puede encontrar [acá](https://github.com/fedeos/Tesis-UAI/blob/master/EDA%20Tesis%20MIA.ipynb)."
   ]
  },
  {
   "cell_type": "code",
   "execution_count": 2,
   "metadata": {},
   "outputs": [],
   "source": [
    "df = pd.read_csv('train_original.csv')"
   ]
  },
  {
   "cell_type": "code",
   "execution_count": 3,
   "metadata": {},
   "outputs": [
    {
     "data": {
      "text/html": [
       "<div>\n",
       "<style scoped>\n",
       "    .dataframe tbody tr th:only-of-type {\n",
       "        vertical-align: middle;\n",
       "    }\n",
       "\n",
       "    .dataframe tbody tr th {\n",
       "        vertical-align: top;\n",
       "    }\n",
       "\n",
       "    .dataframe thead th {\n",
       "        text-align: right;\n",
       "    }\n",
       "</style>\n",
       "<table border=\"1\" class=\"dataframe\">\n",
       "  <thead>\n",
       "    <tr style=\"text-align: right;\">\n",
       "      <th></th>\n",
       "      <th>Image_path</th>\n",
       "      <th>Insurance_company</th>\n",
       "      <th>Cost_of_vehicle</th>\n",
       "      <th>Min_coverage</th>\n",
       "      <th>Expiry_date</th>\n",
       "      <th>Max_coverage</th>\n",
       "      <th>Condition</th>\n",
       "      <th>Amount</th>\n",
       "    </tr>\n",
       "  </thead>\n",
       "  <tbody>\n",
       "    <tr>\n",
       "      <th>0</th>\n",
       "      <td>img_4513976.jpg</td>\n",
       "      <td>BQ</td>\n",
       "      <td>41500.0</td>\n",
       "      <td>1037.5</td>\n",
       "      <td>2026-12-03</td>\n",
       "      <td>36142.68</td>\n",
       "      <td>0</td>\n",
       "      <td>0.0</td>\n",
       "    </tr>\n",
       "    <tr>\n",
       "      <th>1</th>\n",
       "      <td>img_7764995.jpg</td>\n",
       "      <td>BQ</td>\n",
       "      <td>50700.0</td>\n",
       "      <td>1267.5</td>\n",
       "      <td>2025-07-10</td>\n",
       "      <td>12753.00</td>\n",
       "      <td>1</td>\n",
       "      <td>6194.0</td>\n",
       "    </tr>\n",
       "    <tr>\n",
       "      <th>2</th>\n",
       "      <td>img_451308.jpg</td>\n",
       "      <td>A</td>\n",
       "      <td>49500.0</td>\n",
       "      <td>1237.5</td>\n",
       "      <td>2022-08-11</td>\n",
       "      <td>43102.68</td>\n",
       "      <td>0</td>\n",
       "      <td>0.0</td>\n",
       "    </tr>\n",
       "    <tr>\n",
       "      <th>3</th>\n",
       "      <td>img_7768372.jpg</td>\n",
       "      <td>A</td>\n",
       "      <td>33500.0</td>\n",
       "      <td>837.5</td>\n",
       "      <td>2022-08-02</td>\n",
       "      <td>8453.00</td>\n",
       "      <td>1</td>\n",
       "      <td>7699.0</td>\n",
       "    </tr>\n",
       "    <tr>\n",
       "      <th>4</th>\n",
       "      <td>img_7765274.jpg</td>\n",
       "      <td>AC</td>\n",
       "      <td>27600.0</td>\n",
       "      <td>690.0</td>\n",
       "      <td>2026-05-01</td>\n",
       "      <td>6978.00</td>\n",
       "      <td>1</td>\n",
       "      <td>8849.0</td>\n",
       "    </tr>\n",
       "  </tbody>\n",
       "</table>\n",
       "</div>"
      ],
      "text/plain": [
       "        Image_path Insurance_company  Cost_of_vehicle  Min_coverage  \\\n",
       "0  img_4513976.jpg                BQ          41500.0        1037.5   \n",
       "1  img_7764995.jpg                BQ          50700.0        1267.5   \n",
       "2   img_451308.jpg                 A          49500.0        1237.5   \n",
       "3  img_7768372.jpg                 A          33500.0         837.5   \n",
       "4  img_7765274.jpg                AC          27600.0         690.0   \n",
       "\n",
       "  Expiry_date  Max_coverage  Condition  Amount  \n",
       "0  2026-12-03      36142.68          0     0.0  \n",
       "1  2025-07-10      12753.00          1  6194.0  \n",
       "2  2022-08-11      43102.68          0     0.0  \n",
       "3  2022-08-02       8453.00          1  7699.0  \n",
       "4  2026-05-01       6978.00          1  8849.0  "
      ]
     },
     "execution_count": 3,
     "metadata": {},
     "output_type": "execute_result"
    }
   ],
   "source": [
    "df.head()"
   ]
  },
  {
   "cell_type": "markdown",
   "metadata": {},
   "source": [
    "Nuestro propósito es contar con un modelo de regresión que relacione el daño (```Amount```) con el resto de las variables:\n",
    "- Modelo 1: Usando solo fotografías\n",
    "- Modelo 2: Usando fotografías y además las variables númericas y categóricas"
   ]
  },
  {
   "cell_type": "code",
   "execution_count": 4,
   "metadata": {},
   "outputs": [
    {
     "data": {
      "text/plain": [
       "Image_path            object\n",
       "Insurance_company     object\n",
       "Cost_of_vehicle      float64\n",
       "Min_coverage         float64\n",
       "Expiry_date           object\n",
       "Max_coverage         float64\n",
       "Condition              int64\n",
       "Amount               float64\n",
       "dtype: object"
      ]
     },
     "execution_count": 4,
     "metadata": {},
     "output_type": "execute_result"
    }
   ],
   "source": [
    "df.dtypes"
   ]
  },
  {
   "cell_type": "code",
   "execution_count": 5,
   "metadata": {},
   "outputs": [
    {
     "data": {
      "text/html": [
       "<div>\n",
       "<style scoped>\n",
       "    .dataframe tbody tr th:only-of-type {\n",
       "        vertical-align: middle;\n",
       "    }\n",
       "\n",
       "    .dataframe tbody tr th {\n",
       "        vertical-align: top;\n",
       "    }\n",
       "\n",
       "    .dataframe thead th {\n",
       "        text-align: right;\n",
       "    }\n",
       "</style>\n",
       "<table border=\"1\" class=\"dataframe\">\n",
       "  <thead>\n",
       "    <tr style=\"text-align: right;\">\n",
       "      <th></th>\n",
       "      <th>Cost_of_vehicle</th>\n",
       "      <th>Min_coverage</th>\n",
       "      <th>Max_coverage</th>\n",
       "      <th>Condition</th>\n",
       "      <th>Amount</th>\n",
       "    </tr>\n",
       "  </thead>\n",
       "  <tbody>\n",
       "    <tr>\n",
       "      <th>count</th>\n",
       "      <td>1310.000000</td>\n",
       "      <td>1310.000000</td>\n",
       "      <td>1310.000000</td>\n",
       "      <td>1399.000000</td>\n",
       "      <td>1388.000000</td>\n",
       "    </tr>\n",
       "    <tr>\n",
       "      <th>mean</th>\n",
       "      <td>37454.274809</td>\n",
       "      <td>936.356870</td>\n",
       "      <td>11242.925160</td>\n",
       "      <td>0.929235</td>\n",
       "      <td>4117.144092</td>\n",
       "    </tr>\n",
       "    <tr>\n",
       "      <th>std</th>\n",
       "      <td>8921.428143</td>\n",
       "      <td>223.035704</td>\n",
       "      <td>7163.735952</td>\n",
       "      <td>0.256523</td>\n",
       "      <td>3151.516223</td>\n",
       "    </tr>\n",
       "    <tr>\n",
       "      <th>min</th>\n",
       "      <td>11100.000000</td>\n",
       "      <td>277.500000</td>\n",
       "      <td>2853.000000</td>\n",
       "      <td>0.000000</td>\n",
       "      <td>-999.000000</td>\n",
       "    </tr>\n",
       "    <tr>\n",
       "      <th>25%</th>\n",
       "      <td>29800.000000</td>\n",
       "      <td>745.000000</td>\n",
       "      <td>7603.000000</td>\n",
       "      <td>1.000000</td>\n",
       "      <td>1641.750000</td>\n",
       "    </tr>\n",
       "    <tr>\n",
       "      <th>50%</th>\n",
       "      <td>37300.000000</td>\n",
       "      <td>932.500000</td>\n",
       "      <td>9678.000000</td>\n",
       "      <td>1.000000</td>\n",
       "      <td>4070.000000</td>\n",
       "    </tr>\n",
       "    <tr>\n",
       "      <th>75%</th>\n",
       "      <td>45175.000000</td>\n",
       "      <td>1129.375000</td>\n",
       "      <td>11703.000000</td>\n",
       "      <td>1.000000</td>\n",
       "      <td>6039.500000</td>\n",
       "    </tr>\n",
       "    <tr>\n",
       "      <th>max</th>\n",
       "      <td>53500.000000</td>\n",
       "      <td>1337.500000</td>\n",
       "      <td>46495.680000</td>\n",
       "      <td>1.000000</td>\n",
       "      <td>59844.000000</td>\n",
       "    </tr>\n",
       "  </tbody>\n",
       "</table>\n",
       "</div>"
      ],
      "text/plain": [
       "       Cost_of_vehicle  Min_coverage  Max_coverage    Condition        Amount\n",
       "count      1310.000000   1310.000000   1310.000000  1399.000000   1388.000000\n",
       "mean      37454.274809    936.356870  11242.925160     0.929235   4117.144092\n",
       "std        8921.428143    223.035704   7163.735952     0.256523   3151.516223\n",
       "min       11100.000000    277.500000   2853.000000     0.000000   -999.000000\n",
       "25%       29800.000000    745.000000   7603.000000     1.000000   1641.750000\n",
       "50%       37300.000000    932.500000   9678.000000     1.000000   4070.000000\n",
       "75%       45175.000000   1129.375000  11703.000000     1.000000   6039.500000\n",
       "max       53500.000000   1337.500000  46495.680000     1.000000  59844.000000"
      ]
     },
     "execution_count": 5,
     "metadata": {},
     "output_type": "execute_result"
    }
   ],
   "source": [
    "df.describe()"
   ]
  },
  {
   "cell_type": "code",
   "execution_count": 6,
   "metadata": {},
   "outputs": [
    {
     "data": {
      "image/png": "[encoded data removed]",
      "text/plain": [
       "<Figure size 432x288 with 1 Axes>"
      ]
     },
     "metadata": {
      "needs_background": "light"
     },
     "output_type": "display_data"
    }
   ],
   "source": [
    "(df['Min_coverage']/df['Cost_of_vehicle']).hist();"
   ]
  },
  {
   "cell_type": "code",
   "execution_count": 7,
   "metadata": {},
   "outputs": [
    {
     "data": {
      "text/plain": [
       "B     148\n",
       "A     132\n",
       "BQ    131\n",
       "C     131\n",
       "DA    128\n",
       "O     126\n",
       "BB    124\n",
       "AA    123\n",
       "BC    121\n",
       "AC    119\n",
       "RE    116\n",
       "Name: Insurance_company, dtype: int64"
      ]
     },
     "execution_count": 7,
     "metadata": {},
     "output_type": "execute_result"
    }
   ],
   "source": [
    "df['Insurance_company'].value_counts()"
   ]
  },
  {
   "cell_type": "markdown",
   "metadata": {},
   "source": [
    "Se debe hacer notar que:\n",
    "- La cobertura mínima es sistemáticamente el 25% del valor del automóvil, de modo que la variable no aporta información\n",
    "- Creemos Sería razonable suponer que tanto la máxima cobertura (```Max_coverage```)  como el monto del daño (```Amount```) sean expresados como proporción del costo del vehículo\n",
    "- Expresaremos ```Expiry_date```como días pendientes de cobertura a partir de una fecha nominal\n",
    "- Notar que las compañías de seguros son 11 distintas"
   ]
  },
  {
   "cell_type": "code",
   "execution_count": 8,
   "metadata": {},
   "outputs": [],
   "source": [
    "HOY = pd.to_datetime(datetime.date(2021,6,30)) # Fecha nominal para calcular los días de cobertura pendiente"
   ]
  },
  {
   "cell_type": "code",
   "execution_count": 9,
   "metadata": {},
   "outputs": [
    {
     "data": {
      "text/html": [
       "<div>\n",
       "<style scoped>\n",
       "    .dataframe tbody tr th:only-of-type {\n",
       "        vertical-align: middle;\n",
       "    }\n",
       "\n",
       "    .dataframe tbody tr th {\n",
       "        vertical-align: top;\n",
       "    }\n",
       "\n",
       "    .dataframe thead th {\n",
       "        text-align: right;\n",
       "    }\n",
       "</style>\n",
       "<table border=\"1\" class=\"dataframe\">\n",
       "  <thead>\n",
       "    <tr style=\"text-align: right;\">\n",
       "      <th></th>\n",
       "      <th>Image_path</th>\n",
       "      <th>Insurance_company</th>\n",
       "      <th>Cost_of_vehicle</th>\n",
       "      <th>Min_coverage</th>\n",
       "      <th>Expiry_date</th>\n",
       "      <th>Max_coverage</th>\n",
       "      <th>Condition</th>\n",
       "      <th>Amount</th>\n",
       "    </tr>\n",
       "  </thead>\n",
       "  <tbody>\n",
       "    <tr>\n",
       "      <th>0</th>\n",
       "      <td>img_4513976.jpg</td>\n",
       "      <td>BQ</td>\n",
       "      <td>41500.0</td>\n",
       "      <td>1037.5</td>\n",
       "      <td>2026-12-03</td>\n",
       "      <td>36142.68</td>\n",
       "      <td>0</td>\n",
       "      <td>0.0</td>\n",
       "    </tr>\n",
       "    <tr>\n",
       "      <th>1</th>\n",
       "      <td>img_7764995.jpg</td>\n",
       "      <td>BQ</td>\n",
       "      <td>50700.0</td>\n",
       "      <td>1267.5</td>\n",
       "      <td>2025-07-10</td>\n",
       "      <td>12753.00</td>\n",
       "      <td>1</td>\n",
       "      <td>6194.0</td>\n",
       "    </tr>\n",
       "    <tr>\n",
       "      <th>2</th>\n",
       "      <td>img_451308.jpg</td>\n",
       "      <td>A</td>\n",
       "      <td>49500.0</td>\n",
       "      <td>1237.5</td>\n",
       "      <td>2022-08-11</td>\n",
       "      <td>43102.68</td>\n",
       "      <td>0</td>\n",
       "      <td>0.0</td>\n",
       "    </tr>\n",
       "    <tr>\n",
       "      <th>3</th>\n",
       "      <td>img_7768372.jpg</td>\n",
       "      <td>A</td>\n",
       "      <td>33500.0</td>\n",
       "      <td>837.5</td>\n",
       "      <td>2022-08-02</td>\n",
       "      <td>8453.00</td>\n",
       "      <td>1</td>\n",
       "      <td>7699.0</td>\n",
       "    </tr>\n",
       "    <tr>\n",
       "      <th>4</th>\n",
       "      <td>img_7765274.jpg</td>\n",
       "      <td>AC</td>\n",
       "      <td>27600.0</td>\n",
       "      <td>690.0</td>\n",
       "      <td>2026-05-01</td>\n",
       "      <td>6978.00</td>\n",
       "      <td>1</td>\n",
       "      <td>8849.0</td>\n",
       "    </tr>\n",
       "  </tbody>\n",
       "</table>\n",
       "</div>"
      ],
      "text/plain": [
       "        Image_path Insurance_company  Cost_of_vehicle  Min_coverage  \\\n",
       "0  img_4513976.jpg                BQ          41500.0        1037.5   \n",
       "1  img_7764995.jpg                BQ          50700.0        1267.5   \n",
       "2   img_451308.jpg                 A          49500.0        1237.5   \n",
       "3  img_7768372.jpg                 A          33500.0         837.5   \n",
       "4  img_7765274.jpg                AC          27600.0         690.0   \n",
       "\n",
       "  Expiry_date  Max_coverage  Condition  Amount  \n",
       "0  2026-12-03      36142.68          0     0.0  \n",
       "1  2025-07-10      12753.00          1  6194.0  \n",
       "2  2022-08-11      43102.68          0     0.0  \n",
       "3  2022-08-02       8453.00          1  7699.0  \n",
       "4  2026-05-01       6978.00          1  8849.0  "
      ]
     },
     "execution_count": 9,
     "metadata": {},
     "output_type": "execute_result"
    }
   ],
   "source": [
    "df.head()"
   ]
  },
  {
   "cell_type": "markdown",
   "metadata": {},
   "source": [
    "Generaremos una función ad hoc para contar con conjuntos de entrenamiento y evaluación.  El conjunto de prueba con que contamops no está etiquetado.\n",
    "Los comentarios pertinentes se agregan en el código de la función."
   ]
  },
  {
   "cell_type": "code",
   "execution_count": 10,
   "metadata": {},
   "outputs": [],
   "source": [
    "def preprocesa_atributos(input_path):\n",
    "    \n",
    "    '''\n",
    "    Dada la ruta a un archivo devuelve partición en conjuntos de entrenamiento y validación\n",
    "    \n",
    "    input: ruta a un archivo, el que debe contener en una el link a la foto.\n",
    "    output: Conjuntos de entrenamiento y Validación, además de pd.Series con ruta a las imágenes\n",
    "    \n",
    "    \n",
    "    '''\n",
    "    \n",
    "    df=pd.read_csv(input_path)\n",
    "    df.dropna(inplace=True)\n",
    "    df = df.drop(columns=['Condition']) # Queremos predecir el monto, por el momento no nos interesa\n",
    "    df = df[(df['Amount']<=df['Cost_of_vehicle'])] #Filtramos casos: Monto del daño no debiera ser > valor auto\n",
    "    \n",
    "    df['Expiry_date']=pd.to_datetime(df['Expiry_date'])\n",
    "    df['dias_pendientes_cobertura']=(df['Expiry_date']-HOY).dt.days.astype(int) #Permite contar días hasta fin cobertura\n",
    "    df['relative_amount'] = df['Amount']/df['Cost_of_vehicle'] #Se expresa en términos relativos\n",
    "    df['relative_max_cov'] = df['Max_coverage']/df['Cost_of_vehicle'] #Se expresa en términos relativos\n",
    "    \n",
    "    \n",
    "    df = df.drop(columns=['Min_coverage','Expiry_date','Max_coverage','Amount'])\n",
    "    \n",
    "    scaler = MinMaxScaler() #Vamos a escalar variables numéricas\n",
    "     \n",
    "    \n",
    "    X = df.drop(columns=['relative_amount'])\n",
    "    y = df['relative_amount']\n",
    "    \n",
    "    X_train,X_val,y_train,y_val = train_test_split(X, y, test_size=0.25, random_state=777)\n",
    "    \n",
    "    \n",
    "    X_train_num = X_train[['Cost_of_vehicle','dias_pendientes_cobertura']]\n",
    "    X_val_num = X_val[['Cost_of_vehicle','dias_pendientes_cobertura']]\n",
    "    \n",
    "    X_train_num_scaled = pd.DataFrame(scaler.fit_transform(X_train_num), \n",
    "                                      columns=X_train_num.columns,\n",
    "                                      index=X_train.index)\n",
    "    \n",
    "    X_val_num_scaled = pd.DataFrame(scaler.transform(X_val_num), \n",
    "                                      columns=X_val_num.columns,\n",
    "                                       index=X_val.index)\n",
    "    \n",
    "    lb = LabelBinarizer()# Codificaremos valores categóricos\n",
    "    \n",
    "    \n",
    "    X_train_encoded = pd.DataFrame(lb.fit_transform(X_train['Insurance_company']),\n",
    "                                    columns=lb.classes_,\n",
    "                                   index=X_train.index)\n",
    "    \n",
    "    X_val_encoded = pd.DataFrame(lb.transform(X_val['Insurance_company']),\n",
    "                                    columns=lb.classes_,\n",
    "                                   index=X_val.index)\n",
    "    \n",
    "    \n",
    "    X_train_feat = pd.concat([X_train['relative_max_cov'],X_train_num_scaled,X_train_encoded],axis=1)\n",
    "    X_val_feat = pd.concat([X_val['relative_max_cov'],X_val_num_scaled,X_val_encoded],axis=1)\n",
    "    \n",
    "    X_train_im = X_train['Image_path']\n",
    "    X_val_im = X_val['Image_path']\n",
    "    \n",
    "    \n",
    "    return X_train_feat,X_train_im, X_val_feat,X_val_im,y_train,y_val\n",
    "    "
   ]
  },
  {
   "cell_type": "code",
   "execution_count": 11,
   "metadata": {},
   "outputs": [],
   "source": [
    "X_train_feat,X_train_im, X_val_feat,X_val_im,y_train,y_val = preprocesa_atributos('train_original.csv')"
   ]
  },
  {
   "cell_type": "markdown",
   "metadata": {},
   "source": [
    "Dejo esta parte por si quisiera inspeccionar imágenes"
   ]
  },
  {
   "cell_type": "code",
   "execution_count": 12,
   "metadata": {},
   "outputs": [
    {
     "data": {
      "text/plain": [
       "\"\\ni=1 \\n\\nfor indice in X_train_im.index:\\n\\n    img = cv2.imread('trainImages/'+X_train_im[indice])\\n    trans_img = cv2.cvtColor(img, cv2.COLOR_BGR2RGB)\\n\\n    plt.imshow(trans_img)\\n    plt.title('foto '+str(i)+':'+str(y_train[indice]))\\n    plt.show()\\n    i+=1\\n\""
      ]
     },
     "execution_count": 12,
     "metadata": {},
     "output_type": "execute_result"
    }
   ],
   "source": [
    "'''\n",
    "i=1 \n",
    "\n",
    "for indice in X_train_im.index:\n",
    "\n",
    "    img = cv2.imread('trainImages/'+X_train_im[indice])\n",
    "    trans_img = cv2.cvtColor(img, cv2.COLOR_BGR2RGB)\n",
    "\n",
    "    plt.imshow(trans_img)\n",
    "    plt.title('foto '+str(i)+':'+str(y_train[indice]))\n",
    "    plt.show()\n",
    "    i+=1\n",
    "'''"
   ]
  },
  {
   "cell_type": "markdown",
   "metadata": {},
   "source": [
    "Debemos cargar las imágenes, como arreglos de numpy."
   ]
  },
  {
   "cell_type": "code",
   "execution_count": 13,
   "metadata": {},
   "outputs": [],
   "source": [
    "def carga_imagenes(serie_fotos, inputPath):\n",
    "    \n",
    "    nuevas_imagenes = []\n",
    "    for foto in serie_fotos:\n",
    "        imagen = cv2.imread(inputPath+'/'+foto)\n",
    "        imagen = cv2.resize(imagen, (128, 128)) #Dejo todas las fotos en 128 x 128\n",
    "        nuevas_imagenes.append(imagen)\n",
    "    return np.array(nuevas_imagenes)/255.0 # Normalizo a factor de 1"
   ]
  },
  {
   "cell_type": "markdown",
   "metadata": {},
   "source": [
    "Vamos a crear cada modelo por separado"
   ]
  },
  {
   "cell_type": "markdown",
   "metadata": {},
   "source": [
    "Creamos un generador para modelos que solo usen datos tabulares"
   ]
  },
  {
   "cell_type": "code",
   "execution_count": 14,
   "metadata": {},
   "outputs": [],
   "source": [
    "def create_mlp(dim, regress=False):\n",
    "    # Perceptron multicapas muy simple para Redes neuronales\n",
    "    model = Sequential()\n",
    "    model.add(Dense(8, input_dim=dim, activation=\"relu\"))\n",
    "    model.add(Dense(1, activation=\"relu\"))\n",
    "\n",
    "    # ¿Hay nodo de regresión?\n",
    "    if regress:\n",
    "        model.add(Dense(1, activation=\"linear\"))\n",
    "\n",
    "    # Devuelve un modelo\n",
    "    return model"
   ]
  },
  {
   "cell_type": "markdown",
   "metadata": {},
   "source": [
    "Creamos un generador para modelos que solo use imágenes"
   ]
  },
  {
   "cell_type": "code",
   "execution_count": 15,
   "metadata": {},
   "outputs": [],
   "source": [
    "def create_cnn(width, height, depth, filters=(16, 32, 64), regress=True):\n",
    "# Ojo: hay que cambiar orden de las dimensiones\n",
    "\n",
    "    inputShape = (height, width, depth)\n",
    "    chanDim = -1\n",
    "\n",
    "    # Definir input del modelos\n",
    "    inputs = Input(shape=inputShape)\n",
    "\n",
    "    # Loop para cada uno de los filtros\n",
    "    for (i, f) in enumerate(filters):\n",
    "    # Ojo con capas de convolución\n",
    "        if i == 0:\n",
    "            x = inputs\n",
    "\n",
    "    # CONV => RELU => BN => POOL\n",
    "    x = Conv2D(f, (3, 3), padding=\"same\")(x)\n",
    "    x = Activation(\"relu\")(x)\n",
    "    x = BatchNormalization(axis=chanDim)(x)\n",
    "    x = MaxPooling2D(pool_size=(2, 2))(x)\n",
    "\n",
    "    # Aplanar nuevamente, luego FC => RELU => BN => DROPOUT\n",
    "    x = Flatten()(x)\n",
    "    x = Dense(16)(x)\n",
    "    x = Activation(\"relu\")(x)\n",
    "    x = BatchNormalization(axis=chanDim)(x)\n",
    "    x = Dropout(0.5)(x)\n",
    "\n",
    "    # Aplicar al final\n",
    "    x = Dense(1)(x)\n",
    "    x = Activation(\"relu\")(x)\n",
    "\n",
    "    # ¿Hay nodo de regresión?\n",
    "    if regress:\n",
    "        x = Dense(1, activation=\"linear\")(x)\n",
    "\n",
    "    # construct the CNN\n",
    "    model = Model(inputs, x)\n",
    "\n",
    "    # return the CNN\n",
    "    return model"
   ]
  },
  {
   "cell_type": "code",
   "execution_count": 16,
   "metadata": {},
   "outputs": [],
   "source": [
    "imagenes_train = carga_imagenes(X_train_im,'trainImages')\n",
    "imagenes_val = carga_imagenes(X_val_im,'trainImages')"
   ]
  },
  {
   "cell_type": "code",
   "execution_count": 17,
   "metadata": {},
   "outputs": [],
   "source": [
    "mlp = create_mlp(X_train_feat.shape[1])"
   ]
  },
  {
   "cell_type": "code",
   "execution_count": 18,
   "metadata": {},
   "outputs": [
    {
     "name": "stdout",
     "output_type": "stream",
     "text": [
      "Model: \"sequential\"\n",
      "_________________________________________________________________\n",
      "Layer (type)                 Output Shape              Param #   \n",
      "=================================================================\n",
      "dense (Dense)                (None, 8)                 120       \n",
      "_________________________________________________________________\n",
      "dense_1 (Dense)              (None, 1)                 9         \n",
      "=================================================================\n",
      "Total params: 129\n",
      "Trainable params: 129\n",
      "Non-trainable params: 0\n",
      "_________________________________________________________________\n"
     ]
    }
   ],
   "source": [
    "mlp.summary()"
   ]
  },
  {
   "cell_type": "code",
   "execution_count": 19,
   "metadata": {},
   "outputs": [],
   "source": [
    "cnn = create_cnn(128, 128, 3)"
   ]
  },
  {
   "cell_type": "code",
   "execution_count": 20,
   "metadata": {},
   "outputs": [
    {
     "name": "stdout",
     "output_type": "stream",
     "text": [
      "Model: \"model\"\n",
      "_________________________________________________________________\n",
      "Layer (type)                 Output Shape              Param #   \n",
      "=================================================================\n",
      "input_1 (InputLayer)         [(None, 128, 128, 3)]     0         \n",
      "_________________________________________________________________\n",
      "conv2d (Conv2D)              (None, 128, 128, 64)      1792      \n",
      "_________________________________________________________________\n",
      "activation (Activation)      (None, 128, 128, 64)      0         \n",
      "_________________________________________________________________\n",
      "batch_normalization (BatchNo (None, 128, 128, 64)      256       \n",
      "_________________________________________________________________\n",
      "max_pooling2d (MaxPooling2D) (None, 64, 64, 64)        0         \n",
      "_________________________________________________________________\n",
      "flatten (Flatten)            (None, 262144)            0         \n",
      "_________________________________________________________________\n",
      "dense_2 (Dense)              (None, 16)                4194320   \n",
      "_________________________________________________________________\n",
      "activation_1 (Activation)    (None, 16)                0         \n",
      "_________________________________________________________________\n",
      "batch_normalization_1 (Batch (None, 16)                64        \n",
      "_________________________________________________________________\n",
      "dropout (Dropout)            (None, 16)                0         \n",
      "_________________________________________________________________\n",
      "dense_3 (Dense)              (None, 1)                 17        \n",
      "_________________________________________________________________\n",
      "activation_2 (Activation)    (None, 1)                 0         \n",
      "_________________________________________________________________\n",
      "dense_4 (Dense)              (None, 1)                 2         \n",
      "=================================================================\n",
      "Total params: 4,196,451\n",
      "Trainable params: 4,196,291\n",
      "Non-trainable params: 160\n",
      "_________________________________________________________________\n"
     ]
    }
   ],
   "source": [
    "cnn.summary()"
   ]
  },
  {
   "cell_type": "markdown",
   "metadata": {},
   "source": [
    "## Entrenamiento de modelos"
   ]
  },
  {
   "cell_type": "markdown",
   "metadata": {},
   "source": [
    "Primero voy a entrenar el modelo que solamente contiene imágenes"
   ]
  },
  {
   "cell_type": "code",
   "execution_count": 21,
   "metadata": {},
   "outputs": [
    {
     "name": "stdout",
     "output_type": "stream",
     "text": [
      "[INFO] Entrenando modelo con imágenes...\n",
      "[2021-10-08 16:26:57.108 ip-172-16-16-196:21340 INFO utils.py:27] RULE_JOB_STOP_SIGNAL_FILENAME: None\n",
      "[2021-10-08 16:26:57.134 ip-172-16-16-196:21340 INFO profiler_config_parser.py:111] Unable to find config at /opt/ml/input/config/profilerconfig.json. Profiler is disabled.\n",
      "Train on 975 samples, validate on 325 samples\n",
      "Epoch 1/500\n",
      "975/975 [==============================] - 6s 7ms/sample - loss: 0.1348 - val_loss: 0.1030\n",
      "Epoch 2/500\n",
      "975/975 [==============================] - 6s 6ms/sample - loss: 0.1226 - val_loss: 0.0980\n",
      "Epoch 3/500\n",
      "975/975 [==============================] - 6s 6ms/sample - loss: 0.1141 - val_loss: 0.0919\n",
      "Epoch 4/500\n",
      "975/975 [==============================] - 6s 6ms/sample - loss: 0.1089 - val_loss: 0.0876\n",
      "Epoch 5/500\n",
      "975/975 [==============================] - 6s 6ms/sample - loss: 0.1009 - val_loss: 0.0846\n",
      "Epoch 6/500\n",
      "975/975 [==============================] - 6s 6ms/sample - loss: 0.0955 - val_loss: 0.0852\n",
      "Epoch 7/500\n",
      "975/975 [==============================] - 6s 6ms/sample - loss: 0.0926 - val_loss: 0.0822\n",
      "Epoch 8/500\n",
      "975/975 [==============================] - 6s 6ms/sample - loss: 0.0859 - val_loss: 0.0786\n",
      "Epoch 9/500\n",
      "975/975 [==============================] - 6s 6ms/sample - loss: 0.0831 - val_loss: 0.0798\n",
      "Epoch 10/500\n",
      "975/975 [==============================] - 6s 6ms/sample - loss: 0.0834 - val_loss: 0.0781\n",
      "Epoch 11/500\n",
      "975/975 [==============================] - 6s 6ms/sample - loss: 0.0772 - val_loss: 0.0781\n",
      "Epoch 12/500\n",
      "975/975 [==============================] - 6s 6ms/sample - loss: 0.0770 - val_loss: 0.0760\n",
      "Epoch 13/500\n",
      "975/975 [==============================] - 6s 6ms/sample - loss: 0.0720 - val_loss: 0.0747\n",
      "Epoch 14/500\n",
      "975/975 [==============================] - 6s 6ms/sample - loss: 0.0715 - val_loss: 0.0725\n",
      "Epoch 15/500\n",
      "975/975 [==============================] - 6s 6ms/sample - loss: 0.0665 - val_loss: 0.0715\n",
      "Epoch 16/500\n",
      "975/975 [==============================] - 6s 6ms/sample - loss: 0.0684 - val_loss: 0.0706\n",
      "Epoch 17/500\n",
      "975/975 [==============================] - 6s 6ms/sample - loss: 0.0706 - val_loss: 0.0692\n",
      "Epoch 18/500\n",
      "975/975 [==============================] - 6s 6ms/sample - loss: 0.0649 - val_loss: 0.0694\n",
      "Epoch 19/500\n",
      "975/975 [==============================] - 6s 6ms/sample - loss: 0.0647 - val_loss: 0.0690\n",
      "Epoch 20/500\n",
      "975/975 [==============================] - 6s 6ms/sample - loss: 0.0626 - val_loss: 0.0684\n",
      "Epoch 21/500\n",
      "975/975 [==============================] - 6s 6ms/sample - loss: 0.0634 - val_loss: 0.0689\n",
      "Epoch 22/500\n",
      "975/975 [==============================] - 6s 6ms/sample - loss: 0.0617 - val_loss: 0.0679\n",
      "Epoch 23/500\n",
      "975/975 [==============================] - 6s 6ms/sample - loss: 0.0622 - val_loss: 0.0685\n",
      "Epoch 24/500\n",
      "975/975 [==============================] - 6s 6ms/sample - loss: 0.0607 - val_loss: 0.0685\n",
      "Epoch 25/500\n",
      "975/975 [==============================] - 6s 6ms/sample - loss: 0.0623 - val_loss: 0.0690\n",
      "Epoch 26/500\n",
      "975/975 [==============================] - 6s 6ms/sample - loss: 0.0608 - val_loss: 0.0685\n",
      "Epoch 27/500\n",
      "975/975 [==============================] - 6s 6ms/sample - loss: 0.0594 - val_loss: 0.0681\n",
      "Epoch 28/500\n",
      "975/975 [==============================] - 6s 6ms/sample - loss: 0.0610 - val_loss: 0.0682\n",
      "Epoch 29/500\n",
      "975/975 [==============================] - 6s 6ms/sample - loss: 0.0582 - val_loss: 0.0692\n",
      "Epoch 30/500\n",
      "975/975 [==============================] - 6s 6ms/sample - loss: 0.0590 - val_loss: 0.0685\n",
      "Epoch 31/500\n",
      "975/975 [==============================] - 6s 6ms/sample - loss: 0.0575 - val_loss: 0.0688\n",
      "Epoch 32/500\n",
      "975/975 [==============================] - 6s 6ms/sample - loss: 0.0581 - val_loss: 0.0688\n",
      "Epoch 33/500\n",
      "975/975 [==============================] - 6s 6ms/sample - loss: 0.0598 - val_loss: 0.0681\n",
      "Epoch 34/500\n",
      "975/975 [==============================] - 6s 6ms/sample - loss: 0.0590 - val_loss: 0.0698\n",
      "Epoch 35/500\n",
      "975/975 [==============================] - 6s 6ms/sample - loss: 0.0581 - val_loss: 0.0702\n",
      "Epoch 36/500\n",
      "975/975 [==============================] - 6s 6ms/sample - loss: 0.0571 - val_loss: 0.0700\n",
      "Epoch 37/500\n",
      "975/975 [==============================] - 6s 6ms/sample - loss: 0.0561 - val_loss: 0.0696\n",
      "Epoch 38/500\n",
      "975/975 [==============================] - 6s 6ms/sample - loss: 0.0556 - val_loss: 0.0698\n",
      "Epoch 39/500\n",
      "975/975 [==============================] - 6s 6ms/sample - loss: 0.0560 - val_loss: 0.0707\n",
      "Epoch 40/500\n",
      "975/975 [==============================] - 6s 6ms/sample - loss: 0.0556 - val_loss: 0.0693\n",
      "Epoch 41/500\n",
      "975/975 [==============================] - 6s 6ms/sample - loss: 0.0565 - val_loss: 0.0689\n",
      "Epoch 42/500\n",
      "975/975 [==============================] - 6s 6ms/sample - loss: 0.0558 - val_loss: 0.0704\n",
      "Epoch 43/500\n",
      "975/975 [==============================] - 6s 6ms/sample - loss: 0.0560 - val_loss: 0.0705\n"
     ]
    }
   ],
   "source": [
    "modelo_imagenes = cnn\n",
    "\n",
    "opt = Adam(lr=1e-4,decay = 1e-4/200) # Hiperparametros\n",
    "callback = EarlyStopping(monitor='loss', patience=5) # No quiero gastar recursos innecesarios, con callback\n",
    "\n",
    "cnn.compile(loss=\"mean_absolute_error\", \n",
    "              optimizer=opt)\n",
    "\n",
    "print(\"[INFO] Entrenando modelo con imágenes...\")\n",
    "history_imagenes = cnn.fit(\n",
    "    x=imagenes_train, \n",
    "    y=y_train.values,\n",
    "    validation_data=(imagenes_val, y_val.values),\n",
    "    epochs=500, \n",
    "    batch_size=8,\n",
    "    callbacks = [callback])"
   ]
  },
  {
   "cell_type": "code",
   "execution_count": 22,
   "metadata": {},
   "outputs": [
    {
     "name": "stdout",
     "output_type": "stream",
     "text": [
      "dict_keys(['loss', 'val_loss'])\n"
     ]
    },
    {
     "data": {
      "image/png": "[encoded data removed]",
      "text/plain": [
       "<Figure size 432x288 with 1 Axes>"
      ]
     },
     "metadata": {
      "needs_background": "light"
     },
     "output_type": "display_data"
    }
   ],
   "source": [
    "# Listar la historia\n",
    "print(history_imagenes.history.keys())\n",
    "# Generar gráficos\n",
    "plt.plot(history_imagenes.history['loss'])\n",
    "plt.plot(history_imagenes.history['val_loss'])\n",
    "plt.title('Loss - Modelo imágenes')\n",
    "plt.ylabel('loss')\n",
    "plt.xlabel('epoch')\n",
    "plt.legend(['train', 'val'], loc='upper left')\n",
    "plt.show()"
   ]
  },
  {
   "cell_type": "code",
   "execution_count": 23,
   "metadata": {},
   "outputs": [],
   "source": [
    "y_pred_img = cnn.predict(imagenes_val)"
   ]
  },
  {
   "cell_type": "code",
   "execution_count": 24,
   "metadata": {},
   "outputs": [],
   "source": [
    "error_promedio_imagenes = np.mean(abs(y_pred_img-y_val.values.reshape(-1,1)))"
   ]
  },
  {
   "cell_type": "markdown",
   "metadata": {},
   "source": [
    "Y ahora entreno el modelo que utiliza como insumos datos tabulares y las fotos"
   ]
  },
  {
   "cell_type": "code",
   "execution_count": 25,
   "metadata": {},
   "outputs": [],
   "source": [
    "combinedInput = concatenate([mlp.output, cnn.output])\n",
    "x = Dense(1, activation=\"relu\")(combinedInput)\n",
    "x = Dense(1, activation=\"linear\")(x)"
   ]
  },
  {
   "cell_type": "code",
   "execution_count": 31,
   "metadata": {},
   "outputs": [
    {
     "name": "stdout",
     "output_type": "stream",
     "text": [
      "[INFO] Entrenando modelo multi input...\n",
      "Train on 975 samples, validate on 325 samples\n",
      "Epoch 1/100\n",
      "975/975 [==============================] - 6s 6ms/sample - loss: 0.0376 - val_loss: 0.0582\n",
      "Epoch 2/100\n",
      "975/975 [==============================] - 6s 6ms/sample - loss: 0.0379 - val_loss: 0.0577\n",
      "Epoch 3/100\n",
      "975/975 [==============================] - 6s 6ms/sample - loss: 0.0370 - val_loss: 0.0577\n",
      "Epoch 4/100\n",
      "975/975 [==============================] - 6s 6ms/sample - loss: 0.0366 - val_loss: 0.0577\n",
      "Epoch 5/100\n",
      "975/975 [==============================] - 6s 6ms/sample - loss: 0.0381 - val_loss: 0.0575\n",
      "Epoch 6/100\n",
      "975/975 [==============================] - 6s 6ms/sample - loss: 0.0364 - val_loss: 0.0576\n",
      "Epoch 7/100\n",
      "975/975 [==============================] - 6s 6ms/sample - loss: 0.0356 - val_loss: 0.0575\n",
      "Epoch 8/100\n",
      "975/975 [==============================] - 6s 6ms/sample - loss: 0.0354 - val_loss: 0.0575\n",
      "Epoch 9/100\n",
      "975/975 [==============================] - 6s 6ms/sample - loss: 0.0343 - val_loss: 0.0574\n",
      "Epoch 10/100\n",
      "975/975 [==============================] - 6s 6ms/sample - loss: 0.0350 - val_loss: 0.0574\n",
      "Epoch 11/100\n",
      "975/975 [==============================] - 6s 6ms/sample - loss: 0.0354 - val_loss: 0.0575\n",
      "Epoch 12/100\n",
      "975/975 [==============================] - 6s 6ms/sample - loss: 0.0353 - val_loss: 0.0575\n",
      "Epoch 13/100\n",
      "975/975 [==============================] - 6s 6ms/sample - loss: 0.0344 - val_loss: 0.0577\n",
      "Epoch 14/100\n",
      "975/975 [==============================] - 6s 6ms/sample - loss: 0.0361 - val_loss: 0.0577\n"
     ]
    }
   ],
   "source": [
    "model = Model(inputs=[mlp.input, cnn.input], outputs=x)\n",
    "\n",
    "opt = Adam(lr=1e-4,decay = 1e-3/300) # Hiperparametros\n",
    "callback = EarlyStopping(monitor='loss', patience=5) # No quiero gastar recursos innecesarios, con callback\n",
    "\n",
    "model.compile(loss=\"mean_absolute_error\", \n",
    "              optimizer=opt)\n",
    "\n",
    "# Entrenamos el modelo\n",
    "print(\"[INFO] Entrenando modelo multi input...\")\n",
    "history = model.fit(\n",
    "    x=[X_train_feat.values, imagenes_train], \n",
    "    y=y_train.values,\n",
    "    validation_data=([X_val_feat.values, imagenes_val], y_val.values),\n",
    "    epochs=100, \n",
    "    batch_size=8,\n",
    "    callbacks = [callback])\n"
   ]
  },
  {
   "cell_type": "code",
   "execution_count": 32,
   "metadata": {},
   "outputs": [
    {
     "name": "stdout",
     "output_type": "stream",
     "text": [
      "dict_keys(['loss', 'val_loss'])\n"
     ]
    },
    {
     "data": {
      "image/png": "[encoded data removed]",
      "text/plain": [
       "<Figure size 432x288 with 1 Axes>"
      ]
     },
     "metadata": {
      "needs_background": "light"
     },
     "output_type": "display_data"
    }
   ],
   "source": [
    "# Listar la historia\n",
    "print(history.history.keys())\n",
    "# Generar gráficos\n",
    "plt.plot(history.history['loss'])\n",
    "plt.plot(history.history['val_loss'])\n",
    "plt.title('Loss - Modelo mult iinput')\n",
    "plt.ylabel('loss')\n",
    "plt.xlabel('epoch')\n",
    "plt.legend(['train', 'val'], loc='upper left')\n",
    "plt.show()"
   ]
  },
  {
   "cell_type": "code",
   "execution_count": 33,
   "metadata": {},
   "outputs": [],
   "source": [
    "y_pred_mi = model.predict([X_val_feat.values, imagenes_val])"
   ]
  },
  {
   "cell_type": "code",
   "execution_count": 34,
   "metadata": {},
   "outputs": [],
   "source": [
    "error_promedio_mi = np.mean(abs(y_pred_mi-y_val.values.reshape(-1,1)))"
   ]
  },
  {
   "cell_type": "code",
   "execution_count": 35,
   "metadata": {},
   "outputs": [
    {
     "name": "stdout",
     "output_type": "stream",
     "text": [
      "El error promedio del modelo que solo usa imagenes es 0.0705.\n",
      "A su vez, el error promedio del modelo multi input es 0.0577.\n"
     ]
    }
   ],
   "source": [
    "print(f\"El error promedio del modelo que solo usa imagenes es {round(error_promedio_imagenes,4)}.\\n\\\n",
    "A su vez, el error promedio del modelo multi input es {round(error_promedio_mi,4)}.\" )"
   ]
  },
  {
   "cell_type": "markdown",
   "metadata": {},
   "source": [
    "**Ojo: el modelo parece estar sobreajustando, revisar!**"
   ]
  },
  {
   "cell_type": "code",
   "execution_count": null,
   "metadata": {},
   "outputs": [],
   "source": []
  },
  {
   "cell_type": "code",
   "execution_count": null,
   "metadata": {},
   "outputs": [],
   "source": []
  }
 ],
 "metadata": {
  "kernelspec": {
   "display_name": "conda_tensorflow2_p36",
   "language": "python",
   "name": "conda_tensorflow2_p36"
  },
  "language_info": {
   "codemirror_mode": {
    "name": "ipython",
    "version": 3
   },
   "file_extension": ".py",
   "mimetype": "text/x-python",
   "name": "python",
   "nbconvert_exporter": "python",
   "pygments_lexer": "ipython3",
   "version": "3.6.13"
  }
 },
 "nbformat": 4,
 "nbformat_minor": 4
}
