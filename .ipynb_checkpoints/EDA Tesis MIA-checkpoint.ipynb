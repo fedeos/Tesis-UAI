{
 "cells": [
  {
   "cell_type": "markdown",
   "metadata": {},
   "source": [
    "## Importar Bibliotecas"
   ]
  },
  {
   "cell_type": "code",
   "execution_count": 37,
   "metadata": {},
   "outputs": [],
   "source": [
    "import pandas as pd\n",
    "import numpy as np\n",
    "import datetime\n",
    "from sklearn.preprocessing import OneHotEncoder,MinMaxScaler"
   ]
  },
  {
   "cell_type": "markdown",
   "metadata": {},
   "source": [
    "## Primera mirada"
   ]
  },
  {
   "cell_type": "code",
   "execution_count": 38,
   "metadata": {},
   "outputs": [],
   "source": [
    "df = pd.read_csv('train.csv')"
   ]
  },
  {
   "cell_type": "code",
   "execution_count": 39,
   "metadata": {},
   "outputs": [
    {
     "data": {
      "text/plain": [
       "(1399, 8)"
      ]
     },
     "execution_count": 39,
     "metadata": {},
     "output_type": "execute_result"
    }
   ],
   "source": [
    "df.shape"
   ]
  },
  {
   "cell_type": "code",
   "execution_count": 40,
   "metadata": {},
   "outputs": [
    {
     "data": {
      "text/plain": [
       "Image_path            0\n",
       "Insurance_company     0\n",
       "Cost_of_vehicle      89\n",
       "Min_coverage         89\n",
       "Expiry_date           0\n",
       "Max_coverage         89\n",
       "Condition             0\n",
       "Amount               11\n",
       "dtype: int64"
      ]
     },
     "execution_count": 40,
     "metadata": {},
     "output_type": "execute_result"
    }
   ],
   "source": [
    "df.isna().sum()"
   ]
  },
  {
   "cell_type": "markdown",
   "metadata": {},
   "source": [
    "Notar que en este caso:\n",
    "- ```Image path``` : Contiene el path al archivo\n",
    "- ```Insurance_company``` : Nombre de la compañía de seguros involucrada\n",
    "- ```Cost_of_vehicle``` : Costo inicial del vehículo involucrado, en USD \n",
    "- ```Min_coverage``` : Monto de la cobertura mínima\n",
    "- ```Max_coverage```: Monto de la cobertura máxima\n",
    "- ```Expiry_date```: Fecha de expiración de la cobertura           \n",
    "- ```Condition```: 0 si el auto está sin daños, 1 si está dañado "
   ]
  },
  {
   "cell_type": "markdown",
   "metadata": {},
   "source": [
    "Como criterio conservador, simplemente voy a omitir de la muestra los datos faltantes"
   ]
  },
  {
   "cell_type": "code",
   "execution_count": 44,
   "metadata": {},
   "outputs": [],
   "source": [
    "df.dropna(inplace =True)"
   ]
  },
  {
   "cell_type": "code",
   "execution_count": 45,
   "metadata": {},
   "outputs": [
    {
     "data": {
      "image/png": "[encoded data removed]",
      "text/plain": [
       "<Figure size 432x288 with 1 Axes>"
      ]
     },
     "metadata": {
      "needs_background": "light"
     },
     "output_type": "display_data"
    }
   ],
   "source": [
    "df[df.Amount!=0]['Amount'].hist(bins =20);"
   ]
  },
  {
   "cell_type": "markdown",
   "metadata": {},
   "source": [
    "Lo primero que voy a hacer es expresar el daño en términos relativos al costo original del vehículo"
   ]
  },
  {
   "cell_type": "code",
   "execution_count": 46,
   "metadata": {},
   "outputs": [],
   "source": [
    "df['relative_amount'] = df['Amount']/df['Cost_of_vehicle']"
   ]
  },
  {
   "cell_type": "markdown",
   "metadata": {},
   "source": [
    "Se nota asimetría de los montos relativos, hacia daños bajos"
   ]
  },
  {
   "cell_type": "markdown",
   "metadata": {},
   "source": [
    "Por el momento, vamos a trabajar solo con los datos que tenemos OK"
   ]
  },
  {
   "cell_type": "code",
   "execution_count": 10,
   "metadata": {},
   "outputs": [
    {
     "data": {
      "text/plain": [
       "<matplotlib.axes._subplots.AxesSubplot at 0x7fbd2522e190>"
      ]
     },
     "execution_count": 10,
     "metadata": {},
     "output_type": "execute_result"
    },
    {
     "data": {
      "image/png": "[encoded data removed]",
      "text/plain": [
       "<Figure size 432x288 with 1 Axes>"
      ]
     },
     "metadata": {
      "needs_background": "light"
     },
     "output_type": "display_data"
    }
   ],
   "source": [
    "df.relative_amount.hist(bins=30)"
   ]
  },
  {
   "cell_type": "markdown",
   "metadata": {},
   "source": [
    "Voy a separar, momentáneamente, vehículos dañados de los que no lo están"
   ]
  },
  {
   "cell_type": "code",
   "execution_count": 50,
   "metadata": {},
   "outputs": [],
   "source": [
    "df_sin_danno = df[df['Amount']==0]\n",
    "df_con_danno = df[df['Amount']!=0]"
   ]
  },
  {
   "cell_type": "code",
   "execution_count": 51,
   "metadata": {},
   "outputs": [],
   "source": [
    "df_sin_danno = df_sin_danno.assign(severidad='indemne')"
   ]
  },
  {
   "cell_type": "code",
   "execution_count": 53,
   "metadata": {},
   "outputs": [],
   "source": [
    "df_con_danno = df_con_danno.assign(severidad=pd.qcut(df.relative_amount,\n",
    "                                                     q=[0,0.33,0.66,1],\n",
    "                                                     labels=['leve','media','severa']))"
   ]
  },
  {
   "cell_type": "code",
   "execution_count": 54,
   "metadata": {},
   "outputs": [
    {
     "data": {
      "text/plain": [
       "severa    442\n",
       "media     429\n",
       "leve      333\n",
       "Name: severidad, dtype: int64"
      ]
     },
     "execution_count": 54,
     "metadata": {},
     "output_type": "execute_result"
    }
   ],
   "source": [
    "df_con_danno.severidad.value_counts()"
   ]
  },
  {
   "cell_type": "code",
   "execution_count": 55,
   "metadata": {},
   "outputs": [
    {
     "data": {
      "text/plain": [
       "97"
      ]
     },
     "execution_count": 55,
     "metadata": {},
     "output_type": "execute_result"
    }
   ],
   "source": [
    "len(df[df.Amount==0])"
   ]
  },
  {
   "cell_type": "code",
   "execution_count": 56,
   "metadata": {},
   "outputs": [],
   "source": [
    "df = pd.concat([df_con_danno,df_sin_danno],axis=0) "
   ]
  },
  {
   "cell_type": "code",
   "execution_count": 57,
   "metadata": {},
   "outputs": [
    {
     "data": {
      "text/html": [
       "<div>\n",
       "<style scoped>\n",
       "    .dataframe tbody tr th:only-of-type {\n",
       "        vertical-align: middle;\n",
       "    }\n",
       "\n",
       "    .dataframe tbody tr th {\n",
       "        vertical-align: top;\n",
       "    }\n",
       "\n",
       "    .dataframe thead th {\n",
       "        text-align: right;\n",
       "    }\n",
       "</style>\n",
       "<table border=\"1\" class=\"dataframe\">\n",
       "  <thead>\n",
       "    <tr style=\"text-align: right;\">\n",
       "      <th></th>\n",
       "      <th>Image_path</th>\n",
       "      <th>Insurance_company</th>\n",
       "      <th>Cost_of_vehicle</th>\n",
       "      <th>Min_coverage</th>\n",
       "      <th>Expiry_date</th>\n",
       "      <th>Max_coverage</th>\n",
       "      <th>Condition</th>\n",
       "      <th>Amount</th>\n",
       "      <th>relative_amount</th>\n",
       "      <th>severidad</th>\n",
       "    </tr>\n",
       "  </thead>\n",
       "  <tbody>\n",
       "    <tr>\n",
       "      <th>1</th>\n",
       "      <td>img_7764995.jpg</td>\n",
       "      <td>BQ</td>\n",
       "      <td>50700.0</td>\n",
       "      <td>1267.5</td>\n",
       "      <td>2025-07-10</td>\n",
       "      <td>12753.00</td>\n",
       "      <td>1</td>\n",
       "      <td>6194.0</td>\n",
       "      <td>0.122170</td>\n",
       "      <td>media</td>\n",
       "    </tr>\n",
       "    <tr>\n",
       "      <th>3</th>\n",
       "      <td>img_7768372.jpg</td>\n",
       "      <td>A</td>\n",
       "      <td>33500.0</td>\n",
       "      <td>837.5</td>\n",
       "      <td>2022-08-02</td>\n",
       "      <td>8453.00</td>\n",
       "      <td>1</td>\n",
       "      <td>7699.0</td>\n",
       "      <td>0.229821</td>\n",
       "      <td>severa</td>\n",
       "    </tr>\n",
       "    <tr>\n",
       "      <th>4</th>\n",
       "      <td>img_7765274.jpg</td>\n",
       "      <td>AC</td>\n",
       "      <td>27600.0</td>\n",
       "      <td>690.0</td>\n",
       "      <td>2026-05-01</td>\n",
       "      <td>6978.00</td>\n",
       "      <td>1</td>\n",
       "      <td>8849.0</td>\n",
       "      <td>0.320616</td>\n",
       "      <td>severa</td>\n",
       "    </tr>\n",
       "    <tr>\n",
       "      <th>5</th>\n",
       "      <td>img_4537770.jpg</td>\n",
       "      <td>AC</td>\n",
       "      <td>50700.0</td>\n",
       "      <td>1267.5</td>\n",
       "      <td>2026-08-07</td>\n",
       "      <td>12753.00</td>\n",
       "      <td>1</td>\n",
       "      <td>253.0</td>\n",
       "      <td>0.004990</td>\n",
       "      <td>leve</td>\n",
       "    </tr>\n",
       "    <tr>\n",
       "      <th>6</th>\n",
       "      <td>img_7765649.jpg</td>\n",
       "      <td>AC</td>\n",
       "      <td>53200.0</td>\n",
       "      <td>1330.0</td>\n",
       "      <td>2028-01-12</td>\n",
       "      <td>13378.00</td>\n",
       "      <td>1</td>\n",
       "      <td>4013.0</td>\n",
       "      <td>0.075432</td>\n",
       "      <td>media</td>\n",
       "    </tr>\n",
       "    <tr>\n",
       "      <th>...</th>\n",
       "      <td>...</td>\n",
       "      <td>...</td>\n",
       "      <td>...</td>\n",
       "      <td>...</td>\n",
       "      <td>...</td>\n",
       "      <td>...</td>\n",
       "      <td>...</td>\n",
       "      <td>...</td>\n",
       "      <td>...</td>\n",
       "      <td>...</td>\n",
       "    </tr>\n",
       "    <tr>\n",
       "      <th>1338</th>\n",
       "      <td>img_4635562.jpg</td>\n",
       "      <td>AA</td>\n",
       "      <td>40800.0</td>\n",
       "      <td>1020.0</td>\n",
       "      <td>2027-05-22</td>\n",
       "      <td>35533.68</td>\n",
       "      <td>0</td>\n",
       "      <td>0.0</td>\n",
       "      <td>0.000000</td>\n",
       "      <td>indemne</td>\n",
       "    </tr>\n",
       "    <tr>\n",
       "      <th>1349</th>\n",
       "      <td>img_7762023.jpg</td>\n",
       "      <td>BB</td>\n",
       "      <td>43700.0</td>\n",
       "      <td>1092.5</td>\n",
       "      <td>2026-10-10</td>\n",
       "      <td>38056.68</td>\n",
       "      <td>0</td>\n",
       "      <td>0.0</td>\n",
       "      <td>0.000000</td>\n",
       "      <td>indemne</td>\n",
       "    </tr>\n",
       "    <tr>\n",
       "      <th>1350</th>\n",
       "      <td>img_4634227.jpg</td>\n",
       "      <td>BC</td>\n",
       "      <td>49600.0</td>\n",
       "      <td>1240.0</td>\n",
       "      <td>2026-03-29</td>\n",
       "      <td>43189.68</td>\n",
       "      <td>0</td>\n",
       "      <td>0.0</td>\n",
       "      <td>0.000000</td>\n",
       "      <td>indemne</td>\n",
       "    </tr>\n",
       "    <tr>\n",
       "      <th>1352</th>\n",
       "      <td>img_4516307.jpg</td>\n",
       "      <td>BC</td>\n",
       "      <td>45300.0</td>\n",
       "      <td>1132.5</td>\n",
       "      <td>2028-01-11</td>\n",
       "      <td>39448.68</td>\n",
       "      <td>0</td>\n",
       "      <td>0.0</td>\n",
       "      <td>0.000000</td>\n",
       "      <td>indemne</td>\n",
       "    </tr>\n",
       "    <tr>\n",
       "      <th>1377</th>\n",
       "      <td>img_4511208.jpg</td>\n",
       "      <td>A</td>\n",
       "      <td>32700.0</td>\n",
       "      <td>817.5</td>\n",
       "      <td>2026-05-30</td>\n",
       "      <td>28486.68</td>\n",
       "      <td>0</td>\n",
       "      <td>0.0</td>\n",
       "      <td>0.000000</td>\n",
       "      <td>indemne</td>\n",
       "    </tr>\n",
       "  </tbody>\n",
       "</table>\n",
       "<p>1301 rows × 10 columns</p>\n",
       "</div>"
      ],
      "text/plain": [
       "           Image_path Insurance_company  Cost_of_vehicle  Min_coverage  \\\n",
       "1     img_7764995.jpg                BQ          50700.0        1267.5   \n",
       "3     img_7768372.jpg                 A          33500.0         837.5   \n",
       "4     img_7765274.jpg                AC          27600.0         690.0   \n",
       "5     img_4537770.jpg                AC          50700.0        1267.5   \n",
       "6     img_7765649.jpg                AC          53200.0        1330.0   \n",
       "...               ...               ...              ...           ...   \n",
       "1338  img_4635562.jpg                AA          40800.0        1020.0   \n",
       "1349  img_7762023.jpg                BB          43700.0        1092.5   \n",
       "1350  img_4634227.jpg                BC          49600.0        1240.0   \n",
       "1352  img_4516307.jpg                BC          45300.0        1132.5   \n",
       "1377  img_4511208.jpg                 A          32700.0         817.5   \n",
       "\n",
       "     Expiry_date  Max_coverage  Condition  Amount  relative_amount severidad  \n",
       "1     2025-07-10      12753.00          1  6194.0         0.122170     media  \n",
       "3     2022-08-02       8453.00          1  7699.0         0.229821    severa  \n",
       "4     2026-05-01       6978.00          1  8849.0         0.320616    severa  \n",
       "5     2026-08-07      12753.00          1   253.0         0.004990      leve  \n",
       "6     2028-01-12      13378.00          1  4013.0         0.075432     media  \n",
       "...          ...           ...        ...     ...              ...       ...  \n",
       "1338  2027-05-22      35533.68          0     0.0         0.000000   indemne  \n",
       "1349  2026-10-10      38056.68          0     0.0         0.000000   indemne  \n",
       "1350  2026-03-29      43189.68          0     0.0         0.000000   indemne  \n",
       "1352  2028-01-11      39448.68          0     0.0         0.000000   indemne  \n",
       "1377  2026-05-30      28486.68          0     0.0         0.000000   indemne  \n",
       "\n",
       "[1301 rows x 10 columns]"
      ]
     },
     "execution_count": 57,
     "metadata": {},
     "output_type": "execute_result"
    }
   ],
   "source": [
    "df"
   ]
  },
  {
   "cell_type": "markdown",
   "metadata": {},
   "source": [
    "A su vez, respecto de los montos de cobertura máxima y mínima, parece razonable expresar en términos relativos"
   ]
  },
  {
   "cell_type": "code",
   "execution_count": 58,
   "metadata": {},
   "outputs": [],
   "source": [
    "df['p_min_cov'] = df['Min_coverage']/df['Cost_of_vehicle']\n",
    "df['p_max_cov'] = df['Max_coverage']/df['Cost_of_vehicle']"
   ]
  },
  {
   "cell_type": "code",
   "execution_count": 59,
   "metadata": {},
   "outputs": [
    {
     "data": {
      "text/plain": [
       "A     126\n",
       "AA    113\n",
       "AC    110\n",
       "B     139\n",
       "BB    117\n",
       "BC    115\n",
       "BQ    122\n",
       "C     124\n",
       "DA    112\n",
       "O     115\n",
       "RE    108\n",
       "Name: Insurance_company, dtype: int64"
      ]
     },
     "execution_count": 59,
     "metadata": {},
     "output_type": "execute_result"
    }
   ],
   "source": [
    "df['Insurance_company'].value_counts().sort_index()"
   ]
  },
  {
   "cell_type": "markdown",
   "metadata": {},
   "source": [
    "En una primera versión del modelo, codificaremos la compañía de seguros"
   ]
  },
  {
   "cell_type": "code",
   "execution_count": 60,
   "metadata": {},
   "outputs": [],
   "source": [
    "ins_cos=pd.get_dummies(df['Insurance_company'],prefix='Co')"
   ]
  },
  {
   "cell_type": "code",
   "execution_count": 61,
   "metadata": {},
   "outputs": [],
   "source": [
    "df = pd.concat([df,ins_cos],axis=1)"
   ]
  },
  {
   "cell_type": "markdown",
   "metadata": {},
   "source": [
    "A su vez, vamos a encontrar los días restantes que el vehículo está bajo cobertura"
   ]
  },
  {
   "cell_type": "code",
   "execution_count": 63,
   "metadata": {},
   "outputs": [],
   "source": [
    "HOY = pd.to_datetime(datetime.date(2021,6,30))"
   ]
  },
  {
   "cell_type": "code",
   "execution_count": 64,
   "metadata": {},
   "outputs": [],
   "source": [
    "df['Expiry_date']=pd.to_datetime(df['Expiry_date'])"
   ]
  },
  {
   "cell_type": "code",
   "execution_count": 65,
   "metadata": {},
   "outputs": [],
   "source": [
    "df['dias_pendientes_cobertura']=(df['Expiry_date']-HOY).dt.days.astype(int)"
   ]
  },
  {
   "cell_type": "markdown",
   "metadata": {},
   "source": [
    "Y vamos a escalar otras variables de interés"
   ]
  },
  {
   "cell_type": "code",
   "execution_count": 66,
   "metadata": {},
   "outputs": [],
   "source": [
    "mms = MinMaxScaler()"
   ]
  },
  {
   "cell_type": "code",
   "execution_count": 67,
   "metadata": {},
   "outputs": [],
   "source": [
    "df[['Cost_of_vehicle','dias_pendientes_cobertura']]=mms.fit_transform(df[['Cost_of_vehicle',\n",
    "                                                                          'dias_pendientes_cobertura']])"
   ]
  },
  {
   "cell_type": "code",
   "execution_count": 68,
   "metadata": {},
   "outputs": [
    {
     "data": {
      "text/plain": [
       "Index(['Image_path', 'Insurance_company', 'Cost_of_vehicle', 'Min_coverage',\n",
       "       'Expiry_date', 'Max_coverage', 'Condition', 'Amount', 'relative_amount',\n",
       "       'severidad', 'p_min_cov', 'p_max_cov', 'Co_A', 'Co_AA', 'Co_AC', 'Co_B',\n",
       "       'Co_BB', 'Co_BC', 'Co_BQ', 'Co_C', 'Co_DA', 'Co_O', 'Co_RE',\n",
       "       'dias_pendientes_cobertura'],\n",
       "      dtype='object')"
      ]
     },
     "execution_count": 68,
     "metadata": {},
     "output_type": "execute_result"
    }
   ],
   "source": [
    "df.columns"
   ]
  },
  {
   "cell_type": "code",
   "execution_count": 71,
   "metadata": {},
   "outputs": [],
   "source": [
    "df.drop(columns = ['Insurance_company','Min_coverage','Max_coverage','Expiry_date','Condition',\n",
    "                   'Amount','relative_amount','p_min_cov'],inplace=True)"
   ]
  },
  {
   "cell_type": "markdown",
   "metadata": {},
   "source": [
    "Por último, elimino las columnas que no resultan de interés (notar que la cobertura mínima es fija)."
   ]
  },
  {
   "cell_type": "code",
   "execution_count": 73,
   "metadata": {},
   "outputs": [
    {
     "data": {
      "text/html": [
       "<div>\n",
       "<style scoped>\n",
       "    .dataframe tbody tr th:only-of-type {\n",
       "        vertical-align: middle;\n",
       "    }\n",
       "\n",
       "    .dataframe tbody tr th {\n",
       "        vertical-align: top;\n",
       "    }\n",
       "\n",
       "    .dataframe thead th {\n",
       "        text-align: right;\n",
       "    }\n",
       "</style>\n",
       "<table border=\"1\" class=\"dataframe\">\n",
       "  <thead>\n",
       "    <tr style=\"text-align: right;\">\n",
       "      <th></th>\n",
       "      <th>Image_path</th>\n",
       "      <th>Cost_of_vehicle</th>\n",
       "      <th>severidad</th>\n",
       "      <th>p_max_cov</th>\n",
       "      <th>Co_A</th>\n",
       "      <th>Co_AA</th>\n",
       "      <th>Co_AC</th>\n",
       "      <th>Co_B</th>\n",
       "      <th>Co_BB</th>\n",
       "      <th>Co_BC</th>\n",
       "      <th>Co_BQ</th>\n",
       "      <th>Co_C</th>\n",
       "      <th>Co_DA</th>\n",
       "      <th>Co_O</th>\n",
       "      <th>Co_RE</th>\n",
       "      <th>dias_pendientes_cobertura</th>\n",
       "    </tr>\n",
       "  </thead>\n",
       "  <tbody>\n",
       "    <tr>\n",
       "      <th>1</th>\n",
       "      <td>img_7764995.jpg</td>\n",
       "      <td>0.933962</td>\n",
       "      <td>media</td>\n",
       "      <td>0.251538</td>\n",
       "      <td>0</td>\n",
       "      <td>0</td>\n",
       "      <td>0</td>\n",
       "      <td>0</td>\n",
       "      <td>0</td>\n",
       "      <td>0</td>\n",
       "      <td>1</td>\n",
       "      <td>0</td>\n",
       "      <td>0</td>\n",
       "      <td>0</td>\n",
       "      <td>0</td>\n",
       "      <td>0.514362</td>\n",
       "    </tr>\n",
       "    <tr>\n",
       "      <th>3</th>\n",
       "      <td>img_7768372.jpg</td>\n",
       "      <td>0.528302</td>\n",
       "      <td>severa</td>\n",
       "      <td>0.252328</td>\n",
       "      <td>1</td>\n",
       "      <td>0</td>\n",
       "      <td>0</td>\n",
       "      <td>0</td>\n",
       "      <td>0</td>\n",
       "      <td>0</td>\n",
       "      <td>0</td>\n",
       "      <td>0</td>\n",
       "      <td>0</td>\n",
       "      <td>0</td>\n",
       "      <td>0</td>\n",
       "      <td>0.103409</td>\n",
       "    </tr>\n",
       "    <tr>\n",
       "      <th>4</th>\n",
       "      <td>img_7765274.jpg</td>\n",
       "      <td>0.389151</td>\n",
       "      <td>severa</td>\n",
       "      <td>0.252826</td>\n",
       "      <td>0</td>\n",
       "      <td>0</td>\n",
       "      <td>1</td>\n",
       "      <td>0</td>\n",
       "      <td>0</td>\n",
       "      <td>0</td>\n",
       "      <td>0</td>\n",
       "      <td>0</td>\n",
       "      <td>0</td>\n",
       "      <td>0</td>\n",
       "      <td>0</td>\n",
       "      <td>0.627346</td>\n",
       "    </tr>\n",
       "    <tr>\n",
       "      <th>5</th>\n",
       "      <td>img_4537770.jpg</td>\n",
       "      <td>0.933962</td>\n",
       "      <td>leve</td>\n",
       "      <td>0.251538</td>\n",
       "      <td>0</td>\n",
       "      <td>0</td>\n",
       "      <td>1</td>\n",
       "      <td>0</td>\n",
       "      <td>0</td>\n",
       "      <td>0</td>\n",
       "      <td>0</td>\n",
       "      <td>0</td>\n",
       "      <td>0</td>\n",
       "      <td>0</td>\n",
       "      <td>0</td>\n",
       "      <td>0.664879</td>\n",
       "    </tr>\n",
       "    <tr>\n",
       "      <th>6</th>\n",
       "      <td>img_7765649.jpg</td>\n",
       "      <td>0.992925</td>\n",
       "      <td>media</td>\n",
       "      <td>0.251466</td>\n",
       "      <td>0</td>\n",
       "      <td>0</td>\n",
       "      <td>1</td>\n",
       "      <td>0</td>\n",
       "      <td>0</td>\n",
       "      <td>0</td>\n",
       "      <td>0</td>\n",
       "      <td>0</td>\n",
       "      <td>0</td>\n",
       "      <td>0</td>\n",
       "      <td>0</td>\n",
       "      <td>0.865186</td>\n",
       "    </tr>\n",
       "    <tr>\n",
       "      <th>...</th>\n",
       "      <td>...</td>\n",
       "      <td>...</td>\n",
       "      <td>...</td>\n",
       "      <td>...</td>\n",
       "      <td>...</td>\n",
       "      <td>...</td>\n",
       "      <td>...</td>\n",
       "      <td>...</td>\n",
       "      <td>...</td>\n",
       "      <td>...</td>\n",
       "      <td>...</td>\n",
       "      <td>...</td>\n",
       "      <td>...</td>\n",
       "      <td>...</td>\n",
       "      <td>...</td>\n",
       "      <td>...</td>\n",
       "    </tr>\n",
       "    <tr>\n",
       "      <th>1338</th>\n",
       "      <td>img_4635562.jpg</td>\n",
       "      <td>0.700472</td>\n",
       "      <td>indemne</td>\n",
       "      <td>0.870924</td>\n",
       "      <td>0</td>\n",
       "      <td>1</td>\n",
       "      <td>0</td>\n",
       "      <td>0</td>\n",
       "      <td>0</td>\n",
       "      <td>0</td>\n",
       "      <td>0</td>\n",
       "      <td>0</td>\n",
       "      <td>0</td>\n",
       "      <td>0</td>\n",
       "      <td>0</td>\n",
       "      <td>0.775182</td>\n",
       "    </tr>\n",
       "    <tr>\n",
       "      <th>1349</th>\n",
       "      <td>img_7762023.jpg</td>\n",
       "      <td>0.768868</td>\n",
       "      <td>indemne</td>\n",
       "      <td>0.870862</td>\n",
       "      <td>0</td>\n",
       "      <td>0</td>\n",
       "      <td>0</td>\n",
       "      <td>0</td>\n",
       "      <td>1</td>\n",
       "      <td>0</td>\n",
       "      <td>0</td>\n",
       "      <td>0</td>\n",
       "      <td>0</td>\n",
       "      <td>0</td>\n",
       "      <td>0</td>\n",
       "      <td>0.689391</td>\n",
       "    </tr>\n",
       "    <tr>\n",
       "      <th>1350</th>\n",
       "      <td>img_4634227.jpg</td>\n",
       "      <td>0.908019</td>\n",
       "      <td>indemne</td>\n",
       "      <td>0.870760</td>\n",
       "      <td>0</td>\n",
       "      <td>0</td>\n",
       "      <td>0</td>\n",
       "      <td>0</td>\n",
       "      <td>0</td>\n",
       "      <td>1</td>\n",
       "      <td>0</td>\n",
       "      <td>0</td>\n",
       "      <td>0</td>\n",
       "      <td>0</td>\n",
       "      <td>0</td>\n",
       "      <td>0.614707</td>\n",
       "    </tr>\n",
       "    <tr>\n",
       "      <th>1352</th>\n",
       "      <td>img_4516307.jpg</td>\n",
       "      <td>0.806604</td>\n",
       "      <td>indemne</td>\n",
       "      <td>0.870832</td>\n",
       "      <td>0</td>\n",
       "      <td>0</td>\n",
       "      <td>0</td>\n",
       "      <td>0</td>\n",
       "      <td>0</td>\n",
       "      <td>1</td>\n",
       "      <td>0</td>\n",
       "      <td>0</td>\n",
       "      <td>0</td>\n",
       "      <td>0</td>\n",
       "      <td>0</td>\n",
       "      <td>0.864803</td>\n",
       "    </tr>\n",
       "    <tr>\n",
       "      <th>1377</th>\n",
       "      <td>img_4511208.jpg</td>\n",
       "      <td>0.509434</td>\n",
       "      <td>indemne</td>\n",
       "      <td>0.871152</td>\n",
       "      <td>1</td>\n",
       "      <td>0</td>\n",
       "      <td>0</td>\n",
       "      <td>0</td>\n",
       "      <td>0</td>\n",
       "      <td>0</td>\n",
       "      <td>0</td>\n",
       "      <td>0</td>\n",
       "      <td>0</td>\n",
       "      <td>0</td>\n",
       "      <td>0</td>\n",
       "      <td>0.638453</td>\n",
       "    </tr>\n",
       "  </tbody>\n",
       "</table>\n",
       "<p>1301 rows × 16 columns</p>\n",
       "</div>"
      ],
      "text/plain": [
       "           Image_path  Cost_of_vehicle severidad  p_max_cov  Co_A  Co_AA  \\\n",
       "1     img_7764995.jpg         0.933962     media   0.251538     0      0   \n",
       "3     img_7768372.jpg         0.528302    severa   0.252328     1      0   \n",
       "4     img_7765274.jpg         0.389151    severa   0.252826     0      0   \n",
       "5     img_4537770.jpg         0.933962      leve   0.251538     0      0   \n",
       "6     img_7765649.jpg         0.992925     media   0.251466     0      0   \n",
       "...               ...              ...       ...        ...   ...    ...   \n",
       "1338  img_4635562.jpg         0.700472   indemne   0.870924     0      1   \n",
       "1349  img_7762023.jpg         0.768868   indemne   0.870862     0      0   \n",
       "1350  img_4634227.jpg         0.908019   indemne   0.870760     0      0   \n",
       "1352  img_4516307.jpg         0.806604   indemne   0.870832     0      0   \n",
       "1377  img_4511208.jpg         0.509434   indemne   0.871152     1      0   \n",
       "\n",
       "      Co_AC  Co_B  Co_BB  Co_BC  Co_BQ  Co_C  Co_DA  Co_O  Co_RE  \\\n",
       "1         0     0      0      0      1     0      0     0      0   \n",
       "3         0     0      0      0      0     0      0     0      0   \n",
       "4         1     0      0      0      0     0      0     0      0   \n",
       "5         1     0      0      0      0     0      0     0      0   \n",
       "6         1     0      0      0      0     0      0     0      0   \n",
       "...     ...   ...    ...    ...    ...   ...    ...   ...    ...   \n",
       "1338      0     0      0      0      0     0      0     0      0   \n",
       "1349      0     0      1      0      0     0      0     0      0   \n",
       "1350      0     0      0      1      0     0      0     0      0   \n",
       "1352      0     0      0      1      0     0      0     0      0   \n",
       "1377      0     0      0      0      0     0      0     0      0   \n",
       "\n",
       "      dias_pendientes_cobertura  \n",
       "1                      0.514362  \n",
       "3                      0.103409  \n",
       "4                      0.627346  \n",
       "5                      0.664879  \n",
       "6                      0.865186  \n",
       "...                         ...  \n",
       "1338                   0.775182  \n",
       "1349                   0.689391  \n",
       "1350                   0.614707  \n",
       "1352                   0.864803  \n",
       "1377                   0.638453  \n",
       "\n",
       "[1301 rows x 16 columns]"
      ]
     },
     "execution_count": 73,
     "metadata": {},
     "output_type": "execute_result"
    }
   ],
   "source": [
    "df"
   ]
  },
  {
   "cell_type": "code",
   "execution_count": null,
   "metadata": {},
   "outputs": [],
   "source": []
  },
  {
   "cell_type": "code",
   "execution_count": null,
   "metadata": {},
   "outputs": [],
   "source": []
  }
 ],
 "metadata": {
  "kernelspec": {
   "display_name": "Python 3",
   "language": "python",
   "name": "python3"
  },
  "language_info": {
   "codemirror_mode": {
    "name": "ipython",
    "version": 3
   },
   "file_extension": ".py",
   "mimetype": "text/x-python",
   "name": "python",
   "nbconvert_exporter": "python",
   "pygments_lexer": "ipython3",
   "version": "3.7.7"
  }
 },
 "nbformat": 4,
 "nbformat_minor": 4
}
